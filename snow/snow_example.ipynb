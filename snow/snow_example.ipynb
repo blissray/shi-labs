{
 "cells": [
  {
   "cell_type": "code",
   "execution_count": 1,
   "metadata": {},
   "outputs": [],
   "source": [
    "import pandas as pd"
   ]
  },
  {
   "cell_type": "code",
   "execution_count": 2,
   "metadata": {},
   "outputs": [],
   "source": [
    "t_df = pd.read_csv(\"./data/교통.csv\")\n",
    "w_df = pd.read_csv(\"./data/기상.csv\")"
   ]
  },
  {
   "cell_type": "code",
   "execution_count": null,
   "metadata": {},
   "outputs": [],
   "source": [
    "seoul_snow_df = (w_df[w_df[\"강설량_체크\"]].groupby([\"날짜\"])[\"강수량(mm)\"].sum() / 10).reset_index()\n",
    "seoul_snow_df"
   ]
  },
  {
   "cell_type": "markdown",
   "metadata": {},
   "source": [
    "## 눈이 내린날과 내리지 않는 날의 [교통량, 교통사고 건수, 통행속도] 간의 상관 관계를 구하여라"
   ]
  },
  {
   "cell_type": "code",
   "execution_count": 37,
   "metadata": {},
   "outputs": [],
   "source": [
    "t_stat_df  = t_df.groupby(\"날짜\").agg(\n",
    "    {\"교통사고수\":sum, \"차량통행속도\":\"mean\", \"교통량\":\"sum\" }\n",
    ").reset_index()"
   ]
  },
  {
   "cell_type": "code",
   "execution_count": 57,
   "metadata": {},
   "outputs": [],
   "source": [
    "w_stat = w_df.groupby(\"날짜\")[\"강수량(mm)\"].sum().reset_index()\n",
    "w_snow_stat = w_df[\n",
    "    w_df[\"강설량_체크\"]].groupby(\"날짜\")[\"강수량(mm)\"].sum().reset_index()\n",
    "w_snow_stat[\"snow\"] = True\n",
    "w_stat = pd.merge(\n",
    "    w_stat, \n",
    "    w_snow_stat[[\"날짜\",\"snow\"]], \n",
    "    how=\"left\", on=\"날짜\")"
   ]
  },
  {
   "cell_type": "code",
   "execution_count": 59,
   "metadata": {},
   "outputs": [
    {
     "data": {
      "text/html": [
       "<div>\n",
       "<style scoped>\n",
       "    .dataframe tbody tr th:only-of-type {\n",
       "        vertical-align: middle;\n",
       "    }\n",
       "\n",
       "    .dataframe tbody tr th {\n",
       "        vertical-align: top;\n",
       "    }\n",
       "\n",
       "    .dataframe thead th {\n",
       "        text-align: right;\n",
       "    }\n",
       "</style>\n",
       "<table border=\"1\" class=\"dataframe\">\n",
       "  <thead>\n",
       "    <tr style=\"text-align: right;\">\n",
       "      <th></th>\n",
       "      <th>강수량(mm)</th>\n",
       "      <th>교통사고수</th>\n",
       "      <th>차량통행속도</th>\n",
       "      <th>교통량</th>\n",
       "    </tr>\n",
       "  </thead>\n",
       "  <tbody>\n",
       "    <tr>\n",
       "      <th>강수량(mm)</th>\n",
       "      <td>1.000000</td>\n",
       "      <td>0.041487</td>\n",
       "      <td>-0.130020</td>\n",
       "      <td>-0.109489</td>\n",
       "    </tr>\n",
       "    <tr>\n",
       "      <th>교통사고수</th>\n",
       "      <td>0.041487</td>\n",
       "      <td>1.000000</td>\n",
       "      <td>-0.676689</td>\n",
       "      <td>0.463052</td>\n",
       "    </tr>\n",
       "    <tr>\n",
       "      <th>차량통행속도</th>\n",
       "      <td>-0.130020</td>\n",
       "      <td>-0.676689</td>\n",
       "      <td>1.000000</td>\n",
       "      <td>-0.519251</td>\n",
       "    </tr>\n",
       "    <tr>\n",
       "      <th>교통량</th>\n",
       "      <td>-0.109489</td>\n",
       "      <td>0.463052</td>\n",
       "      <td>-0.519251</td>\n",
       "      <td>1.000000</td>\n",
       "    </tr>\n",
       "  </tbody>\n",
       "</table>\n",
       "</div>"
      ],
      "text/plain": [
       "          강수량(mm)     교통사고수    차량통행속도       교통량\n",
       "강수량(mm)  1.000000  0.041487 -0.130020 -0.109489\n",
       "교통사고수    0.041487  1.000000 -0.676689  0.463052\n",
       "차량통행속도  -0.130020 -0.676689  1.000000 -0.519251\n",
       "교통량     -0.109489  0.463052 -0.519251  1.000000"
      ]
     },
     "execution_count": 59,
     "metadata": {},
     "output_type": "execute_result"
    }
   ],
   "source": [
    "pd.merge(w_stat, t_stat_df, how=\"inner\", on=\"날짜\").corr()"
   ]
  },
  {
   "cell_type": "code",
   "execution_count": 60,
   "metadata": {},
   "outputs": [
    {
     "data": {
      "text/html": [
       "<div>\n",
       "<style scoped>\n",
       "    .dataframe tbody tr th:only-of-type {\n",
       "        vertical-align: middle;\n",
       "    }\n",
       "\n",
       "    .dataframe tbody tr th {\n",
       "        vertical-align: top;\n",
       "    }\n",
       "\n",
       "    .dataframe thead th {\n",
       "        text-align: right;\n",
       "    }\n",
       "</style>\n",
       "<table border=\"1\" class=\"dataframe\">\n",
       "  <thead>\n",
       "    <tr style=\"text-align: right;\">\n",
       "      <th></th>\n",
       "      <th>강수량(mm)</th>\n",
       "      <th>교통사고수</th>\n",
       "      <th>차량통행속도</th>\n",
       "      <th>교통량</th>\n",
       "    </tr>\n",
       "  </thead>\n",
       "  <tbody>\n",
       "    <tr>\n",
       "      <th>강수량(mm)</th>\n",
       "      <td>1.000000</td>\n",
       "      <td>0.166400</td>\n",
       "      <td>-0.213183</td>\n",
       "      <td>0.019953</td>\n",
       "    </tr>\n",
       "    <tr>\n",
       "      <th>교통사고수</th>\n",
       "      <td>0.166400</td>\n",
       "      <td>1.000000</td>\n",
       "      <td>-0.686465</td>\n",
       "      <td>0.499269</td>\n",
       "    </tr>\n",
       "    <tr>\n",
       "      <th>차량통행속도</th>\n",
       "      <td>-0.213183</td>\n",
       "      <td>-0.686465</td>\n",
       "      <td>1.000000</td>\n",
       "      <td>-0.480439</td>\n",
       "    </tr>\n",
       "    <tr>\n",
       "      <th>교통량</th>\n",
       "      <td>0.019953</td>\n",
       "      <td>0.499269</td>\n",
       "      <td>-0.480439</td>\n",
       "      <td>1.000000</td>\n",
       "    </tr>\n",
       "  </tbody>\n",
       "</table>\n",
       "</div>"
      ],
      "text/plain": [
       "          강수량(mm)     교통사고수    차량통행속도       교통량\n",
       "강수량(mm)  1.000000  0.166400 -0.213183  0.019953\n",
       "교통사고수    0.166400  1.000000 -0.686465  0.499269\n",
       "차량통행속도  -0.213183 -0.686465  1.000000 -0.480439\n",
       "교통량      0.019953  0.499269 -0.480439  1.000000"
      ]
     },
     "execution_count": 60,
     "metadata": {},
     "output_type": "execute_result"
    }
   ],
   "source": [
    "pd.merge(w_stat[w_stat[\"snow\"]==True]\n",
    "         , t_stat_df, how=\"inner\", on=\"날짜\").corr()"
   ]
  },
  {
   "cell_type": "markdown",
   "metadata": {},
   "source": [
    "## 눈이 내린날의 강수량 범위 [0~1cm, 1cm ~ 3cm, 3cm ~ 5cm, 5cm 이상] 별로 날수를 구하여라"
   ]
  },
  {
   "cell_type": "code",
   "execution_count": 85,
   "metadata": {},
   "outputs": [],
   "source": [
    "w_stat[\"snow\"].fillna(False, inplace=True)"
   ]
  },
  {
   "cell_type": "code",
   "execution_count": 86,
   "metadata": {},
   "outputs": [],
   "source": [
    "import numpy as np"
   ]
  },
  {
   "cell_type": "code",
   "execution_count": 117,
   "metadata": {},
   "outputs": [],
   "source": [
    "condition_list = [\n",
    "    (0, 1), (1, 3), (3, 5), (5, np.inf)\n",
    "]"
   ]
  },
  {
   "cell_type": "code",
   "execution_count": 169,
   "metadata": {},
   "outputs": [],
   "source": [
    "w_stat[\"강수량(cm)\"] = w_stat[\"강수량(mm)\"] / 10\n",
    "df_list = []\n",
    "for idx, condition_value in enumerate(condition_list):    \n",
    "    condition = (w_stat[\"강수량(cm)\"] > condition_value[0]) \\\n",
    "                 & (w_stat[\"강수량(cm)\"] <= condition_value[1])\n",
    "    temp = w_stat[condition] \n",
    "    temp = temp[temp[\"snow\"]]\n",
    "    temp[\"level\"] = idx\n",
    "    df_list.append(temp)"
   ]
  },
  {
   "cell_type": "code",
   "execution_count": 135,
   "metadata": {},
   "outputs": [
    {
     "data": {
      "text/plain": [
       "level\n",
       "0    9\n",
       "1    7\n",
       "2    4\n",
       "3    9\n",
       "Name: 날짜, dtype: int64"
      ]
     },
     "execution_count": 135,
     "metadata": {},
     "output_type": "execute_result"
    }
   ],
   "source": [
    "result_df = pd.concat(df_list).reset_index(drop=True)\n",
    "result_df.groupby(\"level\")[\"날짜\"].count()"
   ]
  },
  {
   "cell_type": "markdown",
   "metadata": {},
   "source": [
    "## 눈이 내린날의 강수량 범위 [0~1cm, 1cm ~ 3cm, 3cm ~ 5cm, 5cm 이상] [교통량, 교통사고 건수, 통행속도] 간의 상관 관계를 구하여라."
   ]
  },
  {
   "cell_type": "code",
   "execution_count": 140,
   "metadata": {},
   "outputs": [],
   "source": [
    "result_df = pd.concat(df_list).reset_index(drop=True)\n",
    "t_stat_df  = t_df.groupby(\"날짜\").agg(\n",
    "    {\"교통사고수\":sum, \"차량통행속도\":\"mean\", \"교통량\":\"sum\" }\n",
    ").reset_index()"
   ]
  },
  {
   "cell_type": "code",
   "execution_count": 143,
   "metadata": {},
   "outputs": [],
   "source": [
    "all_df = pd.merge(result_df, t_stat_df, on=\"날짜\", how=\"left\")"
   ]
  },
  {
   "cell_type": "code",
   "execution_count": 161,
   "metadata": {},
   "outputs": [
    {
     "name": "stdout",
     "output_type": "stream",
     "text": [
      "0\n",
      "1\n",
      "2\n",
      "3\n"
     ]
    }
   ],
   "source": [
    "col_names = [\"강수량(cm)\", \"교통사고수\", \"차량통행속도\", \"교통량\"]\n",
    "grouped = all_df.groupby(\"level\")\n",
    "corr_list = [] \n",
    "for name, group in grouped:\n",
    "    print(name)\n",
    "    corr_list.append(group[col_names].corr())"
   ]
  },
  {
   "cell_type": "code",
   "execution_count": 166,
   "metadata": {},
   "outputs": [
    {
     "data": {
      "text/html": [
       "<div>\n",
       "<style scoped>\n",
       "    .dataframe tbody tr th:only-of-type {\n",
       "        vertical-align: middle;\n",
       "    }\n",
       "\n",
       "    .dataframe tbody tr th {\n",
       "        vertical-align: top;\n",
       "    }\n",
       "\n",
       "    .dataframe thead th {\n",
       "        text-align: right;\n",
       "    }\n",
       "</style>\n",
       "<table border=\"1\" class=\"dataframe\">\n",
       "  <thead>\n",
       "    <tr style=\"text-align: right;\">\n",
       "      <th></th>\n",
       "      <th>강수량(cm)</th>\n",
       "      <th>교통사고수</th>\n",
       "      <th>차량통행속도</th>\n",
       "      <th>교통량</th>\n",
       "    </tr>\n",
       "  </thead>\n",
       "  <tbody>\n",
       "    <tr>\n",
       "      <th>강수량(cm)</th>\n",
       "      <td>1.000000</td>\n",
       "      <td>-0.345908</td>\n",
       "      <td>-0.164060</td>\n",
       "      <td>0.185912</td>\n",
       "    </tr>\n",
       "    <tr>\n",
       "      <th>교통사고수</th>\n",
       "      <td>-0.345908</td>\n",
       "      <td>1.000000</td>\n",
       "      <td>-0.662585</td>\n",
       "      <td>0.704408</td>\n",
       "    </tr>\n",
       "    <tr>\n",
       "      <th>차량통행속도</th>\n",
       "      <td>-0.164060</td>\n",
       "      <td>-0.662585</td>\n",
       "      <td>1.000000</td>\n",
       "      <td>-0.717260</td>\n",
       "    </tr>\n",
       "    <tr>\n",
       "      <th>교통량</th>\n",
       "      <td>0.185912</td>\n",
       "      <td>0.704408</td>\n",
       "      <td>-0.717260</td>\n",
       "      <td>1.000000</td>\n",
       "    </tr>\n",
       "  </tbody>\n",
       "</table>\n",
       "</div>"
      ],
      "text/plain": [
       "          강수량(cm)     교통사고수    차량통행속도       교통량\n",
       "강수량(cm)  1.000000 -0.345908 -0.164060  0.185912\n",
       "교통사고수   -0.345908  1.000000 -0.662585  0.704408\n",
       "차량통행속도  -0.164060 -0.662585  1.000000 -0.717260\n",
       "교통량      0.185912  0.704408 -0.717260  1.000000"
      ]
     },
     "execution_count": 166,
     "metadata": {},
     "output_type": "execute_result"
    }
   ],
   "source": [
    "corr_list[0]"
   ]
  },
  {
   "cell_type": "code",
   "execution_count": 167,
   "metadata": {},
   "outputs": [
    {
     "data": {
      "text/html": [
       "<div>\n",
       "<style scoped>\n",
       "    .dataframe tbody tr th:only-of-type {\n",
       "        vertical-align: middle;\n",
       "    }\n",
       "\n",
       "    .dataframe tbody tr th {\n",
       "        vertical-align: top;\n",
       "    }\n",
       "\n",
       "    .dataframe thead th {\n",
       "        text-align: right;\n",
       "    }\n",
       "</style>\n",
       "<table border=\"1\" class=\"dataframe\">\n",
       "  <thead>\n",
       "    <tr style=\"text-align: right;\">\n",
       "      <th></th>\n",
       "      <th>강수량(cm)</th>\n",
       "      <th>교통사고수</th>\n",
       "      <th>차량통행속도</th>\n",
       "      <th>교통량</th>\n",
       "    </tr>\n",
       "  </thead>\n",
       "  <tbody>\n",
       "    <tr>\n",
       "      <th>강수량(cm)</th>\n",
       "      <td>1.000000</td>\n",
       "      <td>0.268980</td>\n",
       "      <td>-0.614539</td>\n",
       "      <td>0.493238</td>\n",
       "    </tr>\n",
       "    <tr>\n",
       "      <th>교통사고수</th>\n",
       "      <td>0.268980</td>\n",
       "      <td>1.000000</td>\n",
       "      <td>-0.792324</td>\n",
       "      <td>0.820644</td>\n",
       "    </tr>\n",
       "    <tr>\n",
       "      <th>차량통행속도</th>\n",
       "      <td>-0.614539</td>\n",
       "      <td>-0.792324</td>\n",
       "      <td>1.000000</td>\n",
       "      <td>-0.851561</td>\n",
       "    </tr>\n",
       "    <tr>\n",
       "      <th>교통량</th>\n",
       "      <td>0.493238</td>\n",
       "      <td>0.820644</td>\n",
       "      <td>-0.851561</td>\n",
       "      <td>1.000000</td>\n",
       "    </tr>\n",
       "  </tbody>\n",
       "</table>\n",
       "</div>"
      ],
      "text/plain": [
       "          강수량(cm)     교통사고수    차량통행속도       교통량\n",
       "강수량(cm)  1.000000  0.268980 -0.614539  0.493238\n",
       "교통사고수    0.268980  1.000000 -0.792324  0.820644\n",
       "차량통행속도  -0.614539 -0.792324  1.000000 -0.851561\n",
       "교통량      0.493238  0.820644 -0.851561  1.000000"
      ]
     },
     "execution_count": 167,
     "metadata": {},
     "output_type": "execute_result"
    }
   ],
   "source": [
    "corr_list[1]"
   ]
  },
  {
   "cell_type": "code",
   "execution_count": 168,
   "metadata": {},
   "outputs": [
    {
     "data": {
      "text/html": [
       "<div>\n",
       "<style scoped>\n",
       "    .dataframe tbody tr th:only-of-type {\n",
       "        vertical-align: middle;\n",
       "    }\n",
       "\n",
       "    .dataframe tbody tr th {\n",
       "        vertical-align: top;\n",
       "    }\n",
       "\n",
       "    .dataframe thead th {\n",
       "        text-align: right;\n",
       "    }\n",
       "</style>\n",
       "<table border=\"1\" class=\"dataframe\">\n",
       "  <thead>\n",
       "    <tr style=\"text-align: right;\">\n",
       "      <th></th>\n",
       "      <th>강수량(cm)</th>\n",
       "      <th>교통사고수</th>\n",
       "      <th>차량통행속도</th>\n",
       "      <th>교통량</th>\n",
       "    </tr>\n",
       "  </thead>\n",
       "  <tbody>\n",
       "    <tr>\n",
       "      <th>강수량(cm)</th>\n",
       "      <td>1.000000</td>\n",
       "      <td>0.301008</td>\n",
       "      <td>-0.994543</td>\n",
       "      <td>0.100905</td>\n",
       "    </tr>\n",
       "    <tr>\n",
       "      <th>교통사고수</th>\n",
       "      <td>0.301008</td>\n",
       "      <td>1.000000</td>\n",
       "      <td>-0.370271</td>\n",
       "      <td>0.832329</td>\n",
       "    </tr>\n",
       "    <tr>\n",
       "      <th>차량통행속도</th>\n",
       "      <td>-0.994543</td>\n",
       "      <td>-0.370271</td>\n",
       "      <td>1.000000</td>\n",
       "      <td>-0.201786</td>\n",
       "    </tr>\n",
       "    <tr>\n",
       "      <th>교통량</th>\n",
       "      <td>0.100905</td>\n",
       "      <td>0.832329</td>\n",
       "      <td>-0.201786</td>\n",
       "      <td>1.000000</td>\n",
       "    </tr>\n",
       "  </tbody>\n",
       "</table>\n",
       "</div>"
      ],
      "text/plain": [
       "          강수량(cm)     교통사고수    차량통행속도       교통량\n",
       "강수량(cm)  1.000000  0.301008 -0.994543  0.100905\n",
       "교통사고수    0.301008  1.000000 -0.370271  0.832329\n",
       "차량통행속도  -0.994543 -0.370271  1.000000 -0.201786\n",
       "교통량      0.100905  0.832329 -0.201786  1.000000"
      ]
     },
     "execution_count": 168,
     "metadata": {},
     "output_type": "execute_result"
    }
   ],
   "source": [
    "corr_list[2]"
   ]
  },
  {
   "cell_type": "code",
   "execution_count": 164,
   "metadata": {},
   "outputs": [
    {
     "data": {
      "text/html": [
       "<div>\n",
       "<style scoped>\n",
       "    .dataframe tbody tr th:only-of-type {\n",
       "        vertical-align: middle;\n",
       "    }\n",
       "\n",
       "    .dataframe tbody tr th {\n",
       "        vertical-align: top;\n",
       "    }\n",
       "\n",
       "    .dataframe thead th {\n",
       "        text-align: right;\n",
       "    }\n",
       "</style>\n",
       "<table border=\"1\" class=\"dataframe\">\n",
       "  <thead>\n",
       "    <tr style=\"text-align: right;\">\n",
       "      <th></th>\n",
       "      <th>강수량(cm)</th>\n",
       "      <th>교통사고수</th>\n",
       "      <th>차량통행속도</th>\n",
       "      <th>교통량</th>\n",
       "    </tr>\n",
       "  </thead>\n",
       "  <tbody>\n",
       "    <tr>\n",
       "      <th>강수량(cm)</th>\n",
       "      <td>1.000000</td>\n",
       "      <td>0.735189</td>\n",
       "      <td>-0.474855</td>\n",
       "      <td>0.446566</td>\n",
       "    </tr>\n",
       "    <tr>\n",
       "      <th>교통사고수</th>\n",
       "      <td>0.735189</td>\n",
       "      <td>1.000000</td>\n",
       "      <td>-0.827011</td>\n",
       "      <td>0.822885</td>\n",
       "    </tr>\n",
       "    <tr>\n",
       "      <th>차량통행속도</th>\n",
       "      <td>-0.474855</td>\n",
       "      <td>-0.827011</td>\n",
       "      <td>1.000000</td>\n",
       "      <td>-0.837202</td>\n",
       "    </tr>\n",
       "    <tr>\n",
       "      <th>교통량</th>\n",
       "      <td>0.446566</td>\n",
       "      <td>0.822885</td>\n",
       "      <td>-0.837202</td>\n",
       "      <td>1.000000</td>\n",
       "    </tr>\n",
       "  </tbody>\n",
       "</table>\n",
       "</div>"
      ],
      "text/plain": [
       "          강수량(cm)     교통사고수    차량통행속도       교통량\n",
       "강수량(cm)  1.000000  0.735189 -0.474855  0.446566\n",
       "교통사고수    0.735189  1.000000 -0.827011  0.822885\n",
       "차량통행속도  -0.474855 -0.827011  1.000000 -0.837202\n",
       "교통량      0.446566  0.822885 -0.837202  1.000000"
      ]
     },
     "execution_count": 164,
     "metadata": {},
     "output_type": "execute_result"
    }
   ],
   "source": [
    "corr_list[3]"
   ]
  },
  {
   "cell_type": "code",
   "execution_count": 20,
   "metadata": {},
   "outputs": [
    {
     "data": {
      "text/plain": [
       "<matplotlib.axes._subplots.AxesSubplot at 0x27397e3d048>"
      ]
     },
     "execution_count": 20,
     "metadata": {},
     "output_type": "execute_result"
    },
    {
     "name": "stderr",
     "output_type": "stream",
     "text": [
      "C:\\Users\\sc82choi\\Miniconda3\\lib\\site-packages\\matplotlib\\backends\\backend_agg.py:211: RuntimeWarning: Glyph 49884 missing from current font.\n",
      "  font.set_text(s, 0.0, flags=flags)\n",
      "C:\\Users\\sc82choi\\Miniconda3\\lib\\site-packages\\matplotlib\\backends\\backend_agg.py:176: RuntimeWarning: Glyph 49884 missing from current font.\n",
      "  font.load_char(ord(s), flags=flags)\n"
     ]
    },
    {
     "data": {
      "image/png": "[encoded data removed]",
      "text/plain": [
       "<Figure size 432x288 with 1 Axes>"
      ]
     },
     "metadata": {
      "needs_background": "light"
     },
     "output_type": "display_data"
    }
   ],
   "source": [
    "traffic_df.groupby(\"시\")[\"교통량\"].sum().plot()"
   ]
  },
  {
   "cell_type": "code",
   "execution_count": 24,
   "metadata": {},
   "outputs": [],
   "source": [
    "kwon_dict = {\"강북구\":\"동북권\", \"광진구\":\"동북권\", \"노원구\":\"동북권\", \"도봉구\":\"동북권\", \n",
    " \"동대문구\":\"동북권\", \"성동구\":\"동북권\", \"성북구\":\"동북권\", \"중랑구\":\"동북권\",\n",
    " \"강남구\":\"동남권\", \"강동구\":\"동남권\", \"서초구\":\"동남권\", \"송파구\":\"동남권\",\n",
    " \"용산구\":\"도심권\", \"종로구\":\"도심권\", \"중구\":\"도심권\", \"마포구\":\"서북권\", \n",
    " \"서대문구\":\"서북권\", \"은평구\":\"서북권\", \"강서구\":\"서남권\", \"관악구\":\"서남권\", \"구로구\":\"서남권\", \n",
    " \"금천구\":\"서남권\", \"동작구\":\"서남권\", \"양천구\":\"서남권\", \"영등포구\":\"서남권\"}\n",
    "temp_df[\"권역\"] = temp_df[\"구이름\"].replace(kwon_dict)"
   ]
  },
  {
   "cell_type": "code",
   "execution_count": 32,
   "metadata": {},
   "outputs": [
    {
     "data": {
      "text/html": [
       "<div>\n",
       "<style scoped>\n",
       "    .dataframe tbody tr th:only-of-type {\n",
       "        vertical-align: middle;\n",
       "    }\n",
       "\n",
       "    .dataframe tbody tr th {\n",
       "        vertical-align: top;\n",
       "    }\n",
       "\n",
       "    .dataframe thead th {\n",
       "        text-align: right;\n",
       "    }\n",
       "</style>\n",
       "<table border=\"1\" class=\"dataframe\">\n",
       "  <thead>\n",
       "    <tr style=\"text-align: right;\">\n",
       "      <th></th>\n",
       "      <th>날짜</th>\n",
       "      <th>년</th>\n",
       "      <th>월</th>\n",
       "      <th>일</th>\n",
       "      <th>시</th>\n",
       "      <th>구이름</th>\n",
       "      <th>기온(°C)</th>\n",
       "      <th>강수량(mm)</th>\n",
       "      <th>날씨</th>\n",
       "      <th>날씨_리스트</th>\n",
       "      <th>강설량_체크</th>\n",
       "      <th>계산된적설량(cm)</th>\n",
       "      <th>권역</th>\n",
       "    </tr>\n",
       "  </thead>\n",
       "  <tbody>\n",
       "    <tr>\n",
       "      <th>0</th>\n",
       "      <td>2017-01-01</td>\n",
       "      <td>2017</td>\n",
       "      <td>1</td>\n",
       "      <td>1</td>\n",
       "      <td>0</td>\n",
       "      <td>강남구</td>\n",
       "      <td>1.7</td>\n",
       "      <td>0.0</td>\n",
       "      <td>구름많음/안개</td>\n",
       "      <td>['구름많음', '안개']</td>\n",
       "      <td>False</td>\n",
       "      <td>0.0</td>\n",
       "      <td>동남권</td>\n",
       "    </tr>\n",
       "    <tr>\n",
       "      <th>1</th>\n",
       "      <td>2017-01-01</td>\n",
       "      <td>2017</td>\n",
       "      <td>1</td>\n",
       "      <td>1</td>\n",
       "      <td>1</td>\n",
       "      <td>강남구</td>\n",
       "      <td>1.4</td>\n",
       "      <td>0.0</td>\n",
       "      <td>구름많음/안개</td>\n",
       "      <td>['구름많음', '안개']</td>\n",
       "      <td>False</td>\n",
       "      <td>0.0</td>\n",
       "      <td>동남권</td>\n",
       "    </tr>\n",
       "    <tr>\n",
       "      <th>2</th>\n",
       "      <td>2017-01-01</td>\n",
       "      <td>2017</td>\n",
       "      <td>1</td>\n",
       "      <td>1</td>\n",
       "      <td>2</td>\n",
       "      <td>강남구</td>\n",
       "      <td>1.2</td>\n",
       "      <td>0.0</td>\n",
       "      <td>구름많음/안개</td>\n",
       "      <td>['구름많음', '안개']</td>\n",
       "      <td>False</td>\n",
       "      <td>0.0</td>\n",
       "      <td>동남권</td>\n",
       "    </tr>\n",
       "    <tr>\n",
       "      <th>3</th>\n",
       "      <td>2017-01-01</td>\n",
       "      <td>2017</td>\n",
       "      <td>1</td>\n",
       "      <td>1</td>\n",
       "      <td>3</td>\n",
       "      <td>강남구</td>\n",
       "      <td>0.5</td>\n",
       "      <td>0.0</td>\n",
       "      <td>구름많음/안개</td>\n",
       "      <td>['구름많음', '안개']</td>\n",
       "      <td>False</td>\n",
       "      <td>0.0</td>\n",
       "      <td>동남권</td>\n",
       "    </tr>\n",
       "    <tr>\n",
       "      <th>4</th>\n",
       "      <td>2017-01-01</td>\n",
       "      <td>2017</td>\n",
       "      <td>1</td>\n",
       "      <td>1</td>\n",
       "      <td>4</td>\n",
       "      <td>강남구</td>\n",
       "      <td>0.6</td>\n",
       "      <td>0.0</td>\n",
       "      <td>구름많음/안개</td>\n",
       "      <td>['구름많음', '안개']</td>\n",
       "      <td>False</td>\n",
       "      <td>0.0</td>\n",
       "      <td>동남권</td>\n",
       "    </tr>\n",
       "    <tr>\n",
       "      <th>...</th>\n",
       "      <td>...</td>\n",
       "      <td>...</td>\n",
       "      <td>...</td>\n",
       "      <td>...</td>\n",
       "      <td>...</td>\n",
       "      <td>...</td>\n",
       "      <td>...</td>\n",
       "      <td>...</td>\n",
       "      <td>...</td>\n",
       "      <td>...</td>\n",
       "      <td>...</td>\n",
       "      <td>...</td>\n",
       "      <td>...</td>\n",
       "    </tr>\n",
       "    <tr>\n",
       "      <th>437995</th>\n",
       "      <td>2018-12-31</td>\n",
       "      <td>2018</td>\n",
       "      <td>12</td>\n",
       "      <td>31</td>\n",
       "      <td>19</td>\n",
       "      <td>중랑구</td>\n",
       "      <td>-1.7</td>\n",
       "      <td>0.0</td>\n",
       "      <td>맑음</td>\n",
       "      <td>['맑음']</td>\n",
       "      <td>False</td>\n",
       "      <td>0.0</td>\n",
       "      <td>동북권</td>\n",
       "    </tr>\n",
       "    <tr>\n",
       "      <th>437996</th>\n",
       "      <td>2018-12-31</td>\n",
       "      <td>2018</td>\n",
       "      <td>12</td>\n",
       "      <td>31</td>\n",
       "      <td>20</td>\n",
       "      <td>중랑구</td>\n",
       "      <td>-2.4</td>\n",
       "      <td>0.0</td>\n",
       "      <td>맑음</td>\n",
       "      <td>['맑음']</td>\n",
       "      <td>False</td>\n",
       "      <td>0.0</td>\n",
       "      <td>동북권</td>\n",
       "    </tr>\n",
       "    <tr>\n",
       "      <th>437997</th>\n",
       "      <td>2018-12-31</td>\n",
       "      <td>2018</td>\n",
       "      <td>12</td>\n",
       "      <td>31</td>\n",
       "      <td>21</td>\n",
       "      <td>중랑구</td>\n",
       "      <td>-2.5</td>\n",
       "      <td>0.0</td>\n",
       "      <td>맑음</td>\n",
       "      <td>['맑음']</td>\n",
       "      <td>False</td>\n",
       "      <td>0.0</td>\n",
       "      <td>동북권</td>\n",
       "    </tr>\n",
       "    <tr>\n",
       "      <th>437998</th>\n",
       "      <td>2018-12-31</td>\n",
       "      <td>2018</td>\n",
       "      <td>12</td>\n",
       "      <td>31</td>\n",
       "      <td>22</td>\n",
       "      <td>중랑구</td>\n",
       "      <td>-2.9</td>\n",
       "      <td>0.0</td>\n",
       "      <td>맑음</td>\n",
       "      <td>['맑음']</td>\n",
       "      <td>False</td>\n",
       "      <td>0.0</td>\n",
       "      <td>동북권</td>\n",
       "    </tr>\n",
       "    <tr>\n",
       "      <th>437999</th>\n",
       "      <td>2018-12-31</td>\n",
       "      <td>2018</td>\n",
       "      <td>12</td>\n",
       "      <td>31</td>\n",
       "      <td>23</td>\n",
       "      <td>중랑구</td>\n",
       "      <td>-3.4</td>\n",
       "      <td>0.0</td>\n",
       "      <td>맑음</td>\n",
       "      <td>['맑음']</td>\n",
       "      <td>False</td>\n",
       "      <td>0.0</td>\n",
       "      <td>동북권</td>\n",
       "    </tr>\n",
       "  </tbody>\n",
       "</table>\n",
       "<p>438000 rows × 13 columns</p>\n",
       "</div>"
      ],
      "text/plain": [
       "                날짜     년   월   일   시  구이름  기온(°C)  강수량(mm)       날씨  \\\n",
       "0       2017-01-01  2017   1   1   0  강남구     1.7      0.0  구름많음/안개   \n",
       "1       2017-01-01  2017   1   1   1  강남구     1.4      0.0  구름많음/안개   \n",
       "2       2017-01-01  2017   1   1   2  강남구     1.2      0.0  구름많음/안개   \n",
       "3       2017-01-01  2017   1   1   3  강남구     0.5      0.0  구름많음/안개   \n",
       "4       2017-01-01  2017   1   1   4  강남구     0.6      0.0  구름많음/안개   \n",
       "...            ...   ...  ..  ..  ..  ...     ...      ...      ...   \n",
       "437995  2018-12-31  2018  12  31  19  중랑구    -1.7      0.0       맑음   \n",
       "437996  2018-12-31  2018  12  31  20  중랑구    -2.4      0.0       맑음   \n",
       "437997  2018-12-31  2018  12  31  21  중랑구    -2.5      0.0       맑음   \n",
       "437998  2018-12-31  2018  12  31  22  중랑구    -2.9      0.0       맑음   \n",
       "437999  2018-12-31  2018  12  31  23  중랑구    -3.4      0.0       맑음   \n",
       "\n",
       "                날씨_리스트  강설량_체크  계산된적설량(cm)   권역  \n",
       "0       ['구름많음', '안개']   False         0.0  동남권  \n",
       "1       ['구름많음', '안개']   False         0.0  동남권  \n",
       "2       ['구름많음', '안개']   False         0.0  동남권  \n",
       "3       ['구름많음', '안개']   False         0.0  동남권  \n",
       "4       ['구름많음', '안개']   False         0.0  동남권  \n",
       "...                ...     ...         ...  ...  \n",
       "437995          ['맑음']   False         0.0  동북권  \n",
       "437996          ['맑음']   False         0.0  동북권  \n",
       "437997          ['맑음']   False         0.0  동북권  \n",
       "437998          ['맑음']   False         0.0  동북권  \n",
       "437999          ['맑음']   False         0.0  동북권  \n",
       "\n",
       "[438000 rows x 13 columns]"
      ]
     },
     "execution_count": 32,
     "metadata": {},
     "output_type": "execute_result"
    }
   ],
   "source": [
    "temp_df"
   ]
  },
  {
   "cell_type": "code",
   "execution_count": 35,
   "metadata": {},
   "outputs": [],
   "source": [
    "temp_stat = temp_df.groupby([\"구이름\", \"날짜\"])[\"기온(°C)\"].mean().reset_index()\n",
    "import seaborn as sns"
   ]
  },
  {
   "cell_type": "code",
   "execution_count": 44,
   "metadata": {},
   "outputs": [],
   "source": [
    "kang_stat = temp_stat[\n",
    "    (temp_stat[\"구이름\"] == \"강남구\") | (temp_stat[\"구이름\"] == \"강북구\")]"
   ]
  },
  {
   "cell_type": "code",
   "execution_count": 1,
   "metadata": {},
   "outputs": [
    {
     "ename": "NameError",
     "evalue": "name 'sns' is not defined",
     "output_type": "error",
     "traceback": [
      "\u001b[1;31m---------------------------------------------------------------------------\u001b[0m",
      "\u001b[1;31mNameError\u001b[0m                                 Traceback (most recent call last)",
      "\u001b[1;32m<ipython-input-1-756e1530e948>\u001b[0m in \u001b[0;36m<module>\u001b[1;34m\u001b[0m\n\u001b[1;32m----> 1\u001b[1;33m \u001b[0msns\u001b[0m\u001b[1;33m.\u001b[0m\u001b[0mlineplot\u001b[0m\u001b[1;33m(\u001b[0m\u001b[0mx\u001b[0m\u001b[1;33m=\u001b[0m\u001b[1;34m\"날짜\"\u001b[0m\u001b[1;33m,\u001b[0m \u001b[0my\u001b[0m\u001b[1;33m=\u001b[0m\u001b[1;34m\"기온(°C)\"\u001b[0m\u001b[1;33m,\u001b[0m \u001b[0mhue\u001b[0m\u001b[1;33m=\u001b[0m\u001b[1;34m\"구이름\"\u001b[0m\u001b[1;33m,\u001b[0m \u001b[0mdata\u001b[0m\u001b[1;33m=\u001b[0m\u001b[0mkang_stat\u001b[0m\u001b[1;33m)\u001b[0m\u001b[1;33m\u001b[0m\u001b[1;33m\u001b[0m\u001b[0m\n\u001b[0m",
      "\u001b[1;31mNameError\u001b[0m: name 'sns' is not defined"
     ]
    }
   ],
   "source": [
    "sns.lineplot(x=\"날짜\", y=\"기온(°C)\", hue=\"구이름\", data=kang_stat)"
   ]
  },
  {
   "cell_type": "markdown",
   "metadata": {},
   "source": [
    "## 시각화"
   ]
  },
  {
   "cell_type": "code",
   "execution_count": 3,
   "metadata": {},
   "outputs": [
    {
     "name": "stderr",
     "output_type": "stream",
     "text": [
      "C:\\Users\\sc82choi\\Miniconda3\\lib\\importlib\\_bootstrap.py:219: RuntimeWarning: numpy.ufunc size changed, may indicate binary incompatibility. Expected 192 from C header, got 216 from PyObject\n",
      "  return f(*args, **kwds)\n"
     ]
    }
   ],
   "source": [
    "import pandas as pd\n",
    "import matplotlib.pyplot as plt\n",
    "\n",
    "t_df = pd.read_csv(\"./data/교통.csv\")\n",
    "w_df = pd.read_csv(\"./data/기상.csv\")\n",
    "\n",
    "snow_days = w_df[w_df[\"강설량_체크\"]][\"날짜\"].unique()\n",
    "col_1_names = [\"교통량\",\"교통사고수\"]\n",
    "col_2_names = [\"교통사고수\",\"차량통행속도\"]\n",
    "\n",
    "df_1 = t_df[t_df[\"날짜\"].isin(snow_days)].groupby(\"날짜\")[col_1_names].sum().reset_index()\n",
    "df_1 = df_1[col_1_names].rename(\n",
    "    columns={\"교통량\":\"x\",\"교통사고수\":\"y\"})\n",
    "\n",
    "df_2 = t_df[t_df[\"날짜\"].isin(snow_days)].groupby(\"날짜\")[col_2_names].sum().reset_index()\n",
    "df_2 = df_2[col_2_names].rename(\n",
    "    columns={\"교통사고수\":\"x\",\"차량통행속도\":\"y\"})\n",
    "\n",
    "df_3 = w_df[w_df[\"구이름\"] == \"관악구\"].groupby(\"날짜\")[\"강수량(mm)\"].sum().reset_index()\n",
    "df_3 = df_3.rename(\n",
    "    columns={\"날짜\":\"x\",\"강수량(mm)\":\"y\"})\n",
    "\n",
    "df_4 = t_df[w_df[\"구이름\"] == \"종로구\"].groupby(\"날짜\")[col_1_names].sum().reset_index()\n",
    "df_4 = df_4[col_1_names].rename(\n",
    "    columns={\"교통량\":\"x\",\"교통사고수\":\"y\"})\n",
    "\n",
    "a = t_df[(t_df[\"날짜\"].isin(snow_days)) & (t_df[\"구이름\"]==\"종로구\")].groupby(\"날짜\")[\"교통사고수\"].sum()\n",
    "b = w_df[(w_df[\"날짜\"].isin(snow_days)) & (w_df[\"구이름\"]==\"종로구\")].groupby(\"날짜\")[\"강수량(mm)\"].sum()\n",
    "df_5 = pd.concat([a,b], axis=1).reset_index(drop=True)\n",
    "df_5 = df_5.rename(columns={\"교통사고수\":\"x\",\"강수량(mm)\":\"y\"})\n",
    "\n",
    "df_list = [df_1, df_2, df_3, df_4, df_5]\n",
    "\n",
    "fig = plt.figure() # figure 반환\n",
    "fig.set_size_inches(10,10) # 크기지정\n",
    "ax = []\n",
    "\n",
    "ax.append(fig.add_subplot(3,2,1)) # 두개의 plot 생성\n",
    "ax.append(fig.add_subplot(3,2,2))  # 두개의 plot 생성\n",
    "ax.append(fig.add_subplot(3,1,2)) # 두개의 plot 생성\n",
    "ax.append(fig.add_subplot(3,2,5)) # 두개의 plot 생성\n",
    "ax.append(fig.add_subplot(3,2,6))  # 두개의 plot 생성\n",
    "\n",
    "ax[0].scatter(df_list[0].x, df_list[0].y)\n",
    "ax[1].scatter(df_list[1].x, df_list[1].y)\n",
    "ax[2].plot(df_list[2].x, df_list[2].y)\n",
    "ax[3].scatter(df_list[3].x, df_list[3].y)\n",
    "ax[4].scatter(df_list[4].x, df_list[4].y)\n"
   ]
  },
  {
   "cell_type": "markdown",
   "metadata": {},
   "source": [
    "## Seaborn"
   ]
  },
  {
   "cell_type": "code",
   "execution_count": 1,
   "metadata": {},
   "outputs": [],
   "source": [
    "import pandas as pd\n",
    "import seaborn as sns\n",
    "import matplotlib.pyplot as plt\n",
    "\n",
    "t_df = pd.read_csv(\"./data/교통.csv\")\n",
    "w_df = pd.read_csv(\"./data/기상.csv\")"
   ]
  },
  {
   "cell_type": "code",
   "execution_count": 6,
   "metadata": {},
   "outputs": [
    {
     "data": {
      "text/html": [
       "<div>\n",
       "<style scoped>\n",
       "    .dataframe tbody tr th:only-of-type {\n",
       "        vertical-align: middle;\n",
       "    }\n",
       "\n",
       "    .dataframe tbody tr th {\n",
       "        vertical-align: top;\n",
       "    }\n",
       "\n",
       "    .dataframe thead th {\n",
       "        text-align: right;\n",
       "    }\n",
       "</style>\n",
       "<table border=\"1\" class=\"dataframe\">\n",
       "  <thead>\n",
       "    <tr style=\"text-align: right;\">\n",
       "      <th></th>\n",
       "      <th>구이름</th>\n",
       "      <th>월</th>\n",
       "      <th>교통사고수</th>\n",
       "    </tr>\n",
       "  </thead>\n",
       "  <tbody>\n",
       "    <tr>\n",
       "      <th>0</th>\n",
       "      <td>강남구</td>\n",
       "      <td>1</td>\n",
       "      <td>618.0</td>\n",
       "    </tr>\n",
       "    <tr>\n",
       "      <th>1</th>\n",
       "      <td>강남구</td>\n",
       "      <td>2</td>\n",
       "      <td>505.0</td>\n",
       "    </tr>\n",
       "    <tr>\n",
       "      <th>2</th>\n",
       "      <td>강남구</td>\n",
       "      <td>3</td>\n",
       "      <td>574.0</td>\n",
       "    </tr>\n",
       "    <tr>\n",
       "      <th>3</th>\n",
       "      <td>강남구</td>\n",
       "      <td>4</td>\n",
       "      <td>558.0</td>\n",
       "    </tr>\n",
       "    <tr>\n",
       "      <th>4</th>\n",
       "      <td>강남구</td>\n",
       "      <td>5</td>\n",
       "      <td>569.0</td>\n",
       "    </tr>\n",
       "    <tr>\n",
       "      <th>...</th>\n",
       "      <td>...</td>\n",
       "      <td>...</td>\n",
       "      <td>...</td>\n",
       "    </tr>\n",
       "    <tr>\n",
       "      <th>295</th>\n",
       "      <td>중랑구</td>\n",
       "      <td>8</td>\n",
       "      <td>244.0</td>\n",
       "    </tr>\n",
       "    <tr>\n",
       "      <th>296</th>\n",
       "      <td>중랑구</td>\n",
       "      <td>9</td>\n",
       "      <td>277.0</td>\n",
       "    </tr>\n",
       "    <tr>\n",
       "      <th>297</th>\n",
       "      <td>중랑구</td>\n",
       "      <td>10</td>\n",
       "      <td>298.0</td>\n",
       "    </tr>\n",
       "    <tr>\n",
       "      <th>298</th>\n",
       "      <td>중랑구</td>\n",
       "      <td>11</td>\n",
       "      <td>279.0</td>\n",
       "    </tr>\n",
       "    <tr>\n",
       "      <th>299</th>\n",
       "      <td>중랑구</td>\n",
       "      <td>12</td>\n",
       "      <td>251.0</td>\n",
       "    </tr>\n",
       "  </tbody>\n",
       "</table>\n",
       "<p>300 rows × 3 columns</p>\n",
       "</div>"
      ],
      "text/plain": [
       "     구이름   월  교통사고수\n",
       "0    강남구   1  618.0\n",
       "1    강남구   2  505.0\n",
       "2    강남구   3  574.0\n",
       "3    강남구   4  558.0\n",
       "4    강남구   5  569.0\n",
       "..   ...  ..    ...\n",
       "295  중랑구   8  244.0\n",
       "296  중랑구   9  277.0\n",
       "297  중랑구  10  298.0\n",
       "298  중랑구  11  279.0\n",
       "299  중랑구  12  251.0\n",
       "\n",
       "[300 rows x 3 columns]"
      ]
     },
     "execution_count": 6,
     "metadata": {},
     "output_type": "execute_result"
    }
   ],
   "source": [
    "t_stat_df = t_df.groupby([\"구이름\",\"월\"])[\n",
    "    \"교통사고수\"].sum().reset_index()\n",
    "\n",
    "t_stat_df"
   ]
  },
  {
   "cell_type": "code",
   "execution_count": null,
   "metadata": {},
   "outputs": [],
   "source": [
    "sns.lineplot( x=\"월\",\n",
    "    y=\"교통사고수\",\n",
    "    hue=\"구이름\",\n",
    "    data=t_stat_df\n",
    ")\n",
    "plt.show()"
   ]
  },
  {
   "cell_type": "code",
   "execution_count": null,
   "metadata": {},
   "outputs": [
    {
     "name": "stderr",
     "output_type": "stream",
     "text": [
      "C:\\Users\\sc82choi\\Miniconda3\\lib\\site-packages\\matplotlib\\cbook\\__init__.py:1316: RuntimeWarning: invalid value encountered in less_equal\n",
      "  wiskhi = x[x <= hival]\n",
      "C:\\Users\\sc82choi\\Miniconda3\\lib\\site-packages\\matplotlib\\cbook\\__init__.py:1323: RuntimeWarning: invalid value encountered in greater_equal\n",
      "  wisklo = x[x >= loval]\n",
      "C:\\Users\\sc82choi\\Miniconda3\\lib\\site-packages\\matplotlib\\cbook\\__init__.py:1331: RuntimeWarning: invalid value encountered in less\n",
      "  x[x < stats['whislo']],\n",
      "C:\\Users\\sc82choi\\Miniconda3\\lib\\site-packages\\matplotlib\\cbook\\__init__.py:1332: RuntimeWarning: invalid value encountered in greater\n",
      "  x[x > stats['whishi']],\n"
     ]
    }
   ],
   "source": [
    "plt.boxplot(t_df[[\"차량통행속도\", \"교통량\"]])"
   ]
  },
  {
   "cell_type": "code",
   "execution_count": 12,
   "metadata": {},
   "outputs": [
    {
     "name": "stderr",
     "output_type": "stream",
     "text": [
      "C:\\Users\\sc82choi\\Miniconda3\\lib\\site-packages\\matplotlib\\backends\\backend_agg.py:211: RuntimeWarning: Glyph 50900 missing from current font.\n",
      "  font.set_text(s, 0.0, flags=flags)\n",
      "C:\\Users\\sc82choi\\Miniconda3\\lib\\site-packages\\matplotlib\\backends\\backend_agg.py:176: RuntimeWarning: Glyph 50900 missing from current font.\n",
      "  font.load_char(ord(s), flags=flags)\n",
      "C:\\Users\\sc82choi\\Miniconda3\\lib\\site-packages\\matplotlib\\backends\\backend_agg.py:211: RuntimeWarning: Glyph 44368 missing from current font.\n",
      "  font.set_text(s, 0.0, flags=flags)\n",
      "C:\\Users\\sc82choi\\Miniconda3\\lib\\site-packages\\matplotlib\\backends\\backend_agg.py:211: RuntimeWarning: Glyph 53685 missing from current font.\n",
      "  font.set_text(s, 0.0, flags=flags)\n",
      "C:\\Users\\sc82choi\\Miniconda3\\lib\\site-packages\\matplotlib\\backends\\backend_agg.py:211: RuntimeWarning: Glyph 49324 missing from current font.\n",
      "  font.set_text(s, 0.0, flags=flags)\n",
      "C:\\Users\\sc82choi\\Miniconda3\\lib\\site-packages\\matplotlib\\backends\\backend_agg.py:211: RuntimeWarning: Glyph 44256 missing from current font.\n",
      "  font.set_text(s, 0.0, flags=flags)\n",
      "C:\\Users\\sc82choi\\Miniconda3\\lib\\site-packages\\matplotlib\\backends\\backend_agg.py:211: RuntimeWarning: Glyph 49688 missing from current font.\n",
      "  font.set_text(s, 0.0, flags=flags)\n",
      "C:\\Users\\sc82choi\\Miniconda3\\lib\\site-packages\\matplotlib\\backends\\backend_agg.py:180: RuntimeWarning: Glyph 44368 missing from current font.\n",
      "  font.set_text(s, 0, flags=flags)\n",
      "C:\\Users\\sc82choi\\Miniconda3\\lib\\site-packages\\matplotlib\\backends\\backend_agg.py:180: RuntimeWarning: Glyph 53685 missing from current font.\n",
      "  font.set_text(s, 0, flags=flags)\n",
      "C:\\Users\\sc82choi\\Miniconda3\\lib\\site-packages\\matplotlib\\backends\\backend_agg.py:180: RuntimeWarning: Glyph 49324 missing from current font.\n",
      "  font.set_text(s, 0, flags=flags)\n",
      "C:\\Users\\sc82choi\\Miniconda3\\lib\\site-packages\\matplotlib\\backends\\backend_agg.py:180: RuntimeWarning: Glyph 44256 missing from current font.\n",
      "  font.set_text(s, 0, flags=flags)\n",
      "C:\\Users\\sc82choi\\Miniconda3\\lib\\site-packages\\matplotlib\\backends\\backend_agg.py:180: RuntimeWarning: Glyph 49688 missing from current font.\n",
      "  font.set_text(s, 0, flags=flags)\n",
      "C:\\Users\\sc82choi\\Miniconda3\\lib\\site-packages\\matplotlib\\backends\\backend_agg.py:211: RuntimeWarning: Glyph 44396 missing from current font.\n",
      "  font.set_text(s, 0.0, flags=flags)\n",
      "C:\\Users\\sc82choi\\Miniconda3\\lib\\site-packages\\matplotlib\\backends\\backend_agg.py:211: RuntimeWarning: Glyph 51060 missing from current font.\n",
      "  font.set_text(s, 0.0, flags=flags)\n",
      "C:\\Users\\sc82choi\\Miniconda3\\lib\\site-packages\\matplotlib\\backends\\backend_agg.py:211: RuntimeWarning: Glyph 47492 missing from current font.\n",
      "  font.set_text(s, 0.0, flags=flags)\n",
      "C:\\Users\\sc82choi\\Miniconda3\\lib\\site-packages\\matplotlib\\backends\\backend_agg.py:211: RuntimeWarning: Glyph 44053 missing from current font.\n",
      "  font.set_text(s, 0.0, flags=flags)\n",
      "C:\\Users\\sc82choi\\Miniconda3\\lib\\site-packages\\matplotlib\\backends\\backend_agg.py:211: RuntimeWarning: Glyph 45224 missing from current font.\n",
      "  font.set_text(s, 0.0, flags=flags)\n",
      "C:\\Users\\sc82choi\\Miniconda3\\lib\\site-packages\\matplotlib\\backends\\backend_agg.py:211: RuntimeWarning: Glyph 49436 missing from current font.\n",
      "  font.set_text(s, 0.0, flags=flags)\n",
      "C:\\Users\\sc82choi\\Miniconda3\\lib\\site-packages\\matplotlib\\backends\\backend_agg.py:211: RuntimeWarning: Glyph 52488 missing from current font.\n",
      "  font.set_text(s, 0.0, flags=flags)\n",
      "C:\\Users\\sc82choi\\Miniconda3\\lib\\site-packages\\matplotlib\\backends\\backend_agg.py:211: RuntimeWarning: Glyph 49569 missing from current font.\n",
      "  font.set_text(s, 0.0, flags=flags)\n",
      "C:\\Users\\sc82choi\\Miniconda3\\lib\\site-packages\\matplotlib\\backends\\backend_agg.py:211: RuntimeWarning: Glyph 54028 missing from current font.\n",
      "  font.set_text(s, 0.0, flags=flags)\n",
      "C:\\Users\\sc82choi\\Miniconda3\\lib\\site-packages\\matplotlib\\backends\\backend_agg.py:180: RuntimeWarning: Glyph 44396 missing from current font.\n",
      "  font.set_text(s, 0, flags=flags)\n",
      "C:\\Users\\sc82choi\\Miniconda3\\lib\\site-packages\\matplotlib\\backends\\backend_agg.py:180: RuntimeWarning: Glyph 51060 missing from current font.\n",
      "  font.set_text(s, 0, flags=flags)\n",
      "C:\\Users\\sc82choi\\Miniconda3\\lib\\site-packages\\matplotlib\\backends\\backend_agg.py:180: RuntimeWarning: Glyph 47492 missing from current font.\n",
      "  font.set_text(s, 0, flags=flags)\n",
      "C:\\Users\\sc82choi\\Miniconda3\\lib\\site-packages\\matplotlib\\backends\\backend_agg.py:180: RuntimeWarning: Glyph 44053 missing from current font.\n",
      "  font.set_text(s, 0, flags=flags)\n",
      "C:\\Users\\sc82choi\\Miniconda3\\lib\\site-packages\\matplotlib\\backends\\backend_agg.py:180: RuntimeWarning: Glyph 45224 missing from current font.\n",
      "  font.set_text(s, 0, flags=flags)\n",
      "C:\\Users\\sc82choi\\Miniconda3\\lib\\site-packages\\matplotlib\\backends\\backend_agg.py:180: RuntimeWarning: Glyph 49436 missing from current font.\n",
      "  font.set_text(s, 0, flags=flags)\n",
      "C:\\Users\\sc82choi\\Miniconda3\\lib\\site-packages\\matplotlib\\backends\\backend_agg.py:180: RuntimeWarning: Glyph 52488 missing from current font.\n",
      "  font.set_text(s, 0, flags=flags)\n",
      "C:\\Users\\sc82choi\\Miniconda3\\lib\\site-packages\\matplotlib\\backends\\backend_agg.py:180: RuntimeWarning: Glyph 49569 missing from current font.\n",
      "  font.set_text(s, 0, flags=flags)\n",
      "C:\\Users\\sc82choi\\Miniconda3\\lib\\site-packages\\matplotlib\\backends\\backend_agg.py:180: RuntimeWarning: Glyph 54028 missing from current font.\n",
      "  font.set_text(s, 0, flags=flags)\n"
     ]
    },
    {
     "data": {
      "image/png": "[encoded data removed]",
      "text/plain": [
       "<Figure size 432x288 with 1 Axes>"
      ]
     },
     "metadata": {
      "needs_background": "light"
     },
     "output_type": "display_data"
    }
   ],
   "source": [
    "result_df = t_stat_df[t_stat_df[\"구이름\"].isin([\"서초구\",\"강남구\",\"송파구\"])]\n",
    "ax = sns.barplot(\n",
    "    x=\"월\", y=\"교통사고수\", hue=\"구이름\", data=result_df,\n",
    "    orient=\"h\")\n"
   ]
  }
 ],
 "metadata": {
  "kernelspec": {
   "display_name": "Python 3",
   "language": "python",
   "name": "python3"
  },
  "language_info": {
   "codemirror_mode": {
    "name": "ipython",
    "version": 3
   },
   "file_extension": ".py",
   "mimetype": "text/x-python",
   "name": "python",
   "nbconvert_exporter": "python",
   "pygments_lexer": "ipython3",
   "version": "3.7.4"
  }
 },
 "nbformat": 4,
 "nbformat_minor": 2
}
